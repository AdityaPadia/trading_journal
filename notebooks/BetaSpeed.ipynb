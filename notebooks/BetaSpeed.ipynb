{
  "nbformat": 4,
  "nbformat_minor": 0,
  "metadata": {
    "colab": {
      "provenance": []
    },
    "kernelspec": {
      "name": "python3",
      "display_name": "Python 3"
    },
    "language_info": {
      "name": "python"
    }
  },
  "cells": [
    {
      "cell_type": "code",
      "execution_count": null,
      "metadata": {
        "colab": {
          "base_uri": "https://localhost:8080/"
        },
        "id": "qKwqNI15MTJS",
        "outputId": "56fa1617-93e9-49e6-9e43-11423599089f"
      },
      "outputs": [
        {
          "output_type": "stream",
          "name": "stdout",
          "text": [
            "Requirement already satisfied: defeatbeta-api in /usr/local/lib/python3.11/dist-packages (0.0.6)\n",
            "Requirement already satisfied: duckdb>=1.1.3 in /usr/local/lib/python3.11/dist-packages (from defeatbeta-api) (1.2.2)\n",
            "Requirement already satisfied: pandas>=2.2.3 in /usr/local/lib/python3.11/dist-packages (from defeatbeta-api) (2.2.3)\n",
            "Requirement already satisfied: requests~=2.32.3 in /usr/local/lib/python3.11/dist-packages (from defeatbeta-api) (2.32.3)\n",
            "Requirement already satisfied: psutil>=7.0.0 in /usr/local/lib/python3.11/dist-packages (from defeatbeta-api) (7.0.0)\n",
            "Requirement already satisfied: pyfiglet>=1.0.2 in /usr/local/lib/python3.11/dist-packages (from defeatbeta-api) (1.0.2)\n",
            "Requirement already satisfied: urllib3~=2.3.0 in /usr/local/lib/python3.11/dist-packages (from defeatbeta-api) (2.3.0)\n",
            "Requirement already satisfied: tabulate>=0.9.0 in /usr/local/lib/python3.11/dist-packages (from defeatbeta-api) (0.9.0)\n",
            "Requirement already satisfied: numpy>=1.23.2 in /usr/local/lib/python3.11/dist-packages (from pandas>=2.2.3->defeatbeta-api) (2.0.2)\n",
            "Requirement already satisfied: python-dateutil>=2.8.2 in /usr/local/lib/python3.11/dist-packages (from pandas>=2.2.3->defeatbeta-api) (2.9.0.post0)\n",
            "Requirement already satisfied: pytz>=2020.1 in /usr/local/lib/python3.11/dist-packages (from pandas>=2.2.3->defeatbeta-api) (2025.2)\n",
            "Requirement already satisfied: tzdata>=2022.7 in /usr/local/lib/python3.11/dist-packages (from pandas>=2.2.3->defeatbeta-api) (2025.2)\n",
            "Requirement already satisfied: charset-normalizer<4,>=2 in /usr/local/lib/python3.11/dist-packages (from requests~=2.32.3->defeatbeta-api) (3.4.2)\n",
            "Requirement already satisfied: idna<4,>=2.5 in /usr/local/lib/python3.11/dist-packages (from requests~=2.32.3->defeatbeta-api) (3.10)\n",
            "Requirement already satisfied: certifi>=2017.4.17 in /usr/local/lib/python3.11/dist-packages (from requests~=2.32.3->defeatbeta-api) (2025.4.26)\n",
            "Requirement already satisfied: six>=1.5 in /usr/local/lib/python3.11/dist-packages (from python-dateutil>=2.8.2->pandas>=2.2.3->defeatbeta-api) (1.17.0)\n",
            "Collecting xlsxwriter\n",
            "  Downloading XlsxWriter-3.2.3-py3-none-any.whl.metadata (2.7 kB)\n",
            "Downloading XlsxWriter-3.2.3-py3-none-any.whl (169 kB)\n",
            "\u001b[2K   \u001b[90m━━━━━━━━━━━━━━━━━━━━━━━━━━━━━━━━━━━━━━━━\u001b[0m \u001b[32m169.4/169.4 kB\u001b[0m \u001b[31m3.2 MB/s\u001b[0m eta \u001b[36m0:00:00\u001b[0m\n",
            "\u001b[?25hInstalling collected packages: xlsxwriter\n",
            "Successfully installed xlsxwriter-3.2.3\n"
          ]
        }
      ],
      "source": [
        "!pip install defeatbeta-api\n",
        "!pip install xlsxwriter"
      ]
    },
    {
      "cell_type": "code",
      "source": [
        "import numpy as np\n",
        "import pandas as pd\n",
        "import defeatbeta_api\n",
        "from defeatbeta_api.data.ticker import Ticker"
      ],
      "metadata": {
        "id": "b2wC734tMXv7"
      },
      "execution_count": null,
      "outputs": []
    },
    {
      "cell_type": "code",
      "source": [
        "def _get_financials(ticker_symbol):\n",
        "    \"\"\"\n",
        "    Fetch financial data and save to an Excel file with automated formatting\n",
        "    (bold headers, auto column widths, number formats, freeze panes, etc.).\n",
        "    \"\"\"\n",
        "\n",
        "    # 1) Fetch data via your existing library\n",
        "    ticker = Ticker(ticker_symbol)\n",
        "    info     = ticker.info()\n",
        "    officers = ticker.officers()\n",
        "    summary  = ticker.summary()\n",
        "    pe       = ticker.ttm_pe()\n",
        "\n",
        "    q_inc = ticker.quarterly_income_statement().df()\n",
        "    a_inc = ticker.annual_income_statement().df()\n",
        "\n",
        "    q_bs = ticker.quarterly_balance_sheet().df()\n",
        "    a_bs = ticker.annual_balance_sheet().df()\n",
        "\n",
        "    q_cf = ticker.quarterly_cash_flow().df()\n",
        "    a_cf = ticker.annual_cash_flow().df()\n",
        "\n",
        "    earnings  = ticker.earnings()\n",
        "    dividends = ticker.dividends()\n",
        "\n",
        "    # 2) Create a dict of (sheet_name, DataFrame)\n",
        "    sheets = {\n",
        "        # \"Info\":           info,\n",
        "        # \"Officers\":       officers,\n",
        "        # \"Summary\":        summary,\n",
        "        # \"PE\":             pe,\n",
        "        \"Q_Income_Stmt\":  q_inc,\n",
        "        \"A_Income_Stmt\":  a_inc,\n",
        "        \"Q_Balance_Sheet\":q_bs,\n",
        "        \"A_Balance_Sheet\":a_bs,\n",
        "        \"Q_Cash_Flow\":    q_cf,\n",
        "        \"A_Cash_Flow\":    a_cf,\n",
        "        \"Earnings\":       earnings,\n",
        "        \"Dividends\":      dividends\n",
        "    }\n",
        "\n",
        "    # 3) Open an ExcelWriter with engine=\"xlsxwriter\"\n",
        "    output_filename = f\"{ticker_symbol}_financials.xlsx\"\n",
        "    with pd.ExcelWriter(output_filename, engine=\"xlsxwriter\") as writer:\n",
        "        # Grab the XlsxWriter workbook object\n",
        "        workbook  = writer.book\n",
        "\n",
        "        # Define some common formats\n",
        "        header_fmt = workbook.add_format({\n",
        "            \"bold\": True,\n",
        "            \"align\": \"center\",\n",
        "            \"valign\": \"vcenter\",\n",
        "            \"bg_color\": \"#D9E1F2\",\n",
        "            \"border\": 1\n",
        "        })\n",
        "        text_fmt = workbook.add_format({\"num_format\": \"@\", \"border\": 1})\n",
        "        integer_fmt = workbook.add_format({\"num_format\": \"#,##0\", \"border\": 1})\n",
        "        float_fmt   = workbook.add_format({\"num_format\": \"#,##0.00\", \"border\": 1})\n",
        "        date_fmt    = workbook.add_format({\"num_format\": \"yyyy-mm-dd\", \"border\": 1})\n",
        "\n",
        "        # (Optional) a small function to pick a format based on dtype\n",
        "        def _select_format(series_dtype):\n",
        "            if np.issubdtype(series_dtype, np.integer):\n",
        "                return integer_fmt\n",
        "            elif np.issubdtype(series_dtype, np.floating):\n",
        "                return float_fmt\n",
        "            elif np.issubdtype(series_dtype, np.datetime64):\n",
        "                return date_fmt\n",
        "            else:\n",
        "                return text_fmt\n",
        "\n",
        "        # 4) Iterate through sheets, write DataFrame, and apply formatting\n",
        "        for sheet_name, df in sheets.items():\n",
        "            # Write DataFrame to sheet (without index, or with index if you prefer)\n",
        "            df.to_excel(writer, sheet_name=sheet_name, index=False, startrow=1, header=False)\n",
        "            worksheet = writer.sheets[sheet_name]\n",
        "\n",
        "            # Write the header with the header_fmt\n",
        "            for col_num, column_title in enumerate(df.columns):\n",
        "                worksheet.write(0, col_num, column_title, header_fmt)\n",
        "\n",
        "            # Auto-adjust column widths based on max length in each column\n",
        "            for idx, col in enumerate(df.columns):\n",
        "                # Determine max length in this column (including header)\n",
        "                series = df[col].astype(str)\n",
        "                max_len = max(\n",
        "                    series.map(len).max(),\n",
        "                    len(str(col))\n",
        "                ) + 2  # add a little extra\n",
        "                worksheet.set_column(idx, idx, max_len)\n",
        "\n",
        "            # Apply number/datetime formatting row-by-row\n",
        "            # Starting at row=1 since row 0 is header\n",
        "            for col_num, column in enumerate(df.columns):\n",
        "                col_dtype = df[column].dtype\n",
        "                cell_format = _select_format(col_dtype)\n",
        "\n",
        "                # Only apply format if not \"object\" (i.e., text)\n",
        "                if not np.issubdtype(col_dtype, np.object_):\n",
        "                    # We know df has N rows; write formatting for entire column range\n",
        "                    # from row 1 to row df.shape[0]\n",
        "                    start_row = 1\n",
        "                    end_row   = df.shape[0]\n",
        "                    worksheet.set_column(\n",
        "                        col_num,\n",
        "                        col_num,\n",
        "                        None,  # width was already set above\n",
        "                        cell_format,\n",
        "                        {\"row\": start_row, \"rows\": end_row}  # apply to all data cells\n",
        "                    )\n",
        "\n",
        "            # 5) Freeze the top header row\n",
        "            worksheet.freeze_panes(1, 0)\n",
        "\n",
        "        # When exiting the `with` block, writer.save() is called automatically\n",
        "\n",
        "    print(f\"Saved formatted Excel file as: {output_filename}\")"
      ],
      "metadata": {
        "id": "-56Hk88LvxKq"
      },
      "execution_count": null,
      "outputs": []
    },
    {
      "cell_type": "code",
      "source": [
        "stock_ticker = \"GE\"\n",
        "_get_financials(stock_ticker)"
      ],
      "metadata": {
        "colab": {
          "base_uri": "https://localhost:8080/"
        },
        "id": "HpPPndlld2kC",
        "outputId": "83061e5e-2c92-4923-c5ef-98288654e879"
      },
      "execution_count": null,
      "outputs": [
        {
          "output_type": "stream",
          "name": "stdout",
          "text": [
            "Saved formatted Excel file as: NVO_financials.xlsx\n"
          ]
        }
      ]
    },
    {
      "cell_type": "code",
      "source": [],
      "metadata": {
        "id": "nWXJ4IVkJoxI"
      },
      "execution_count": null,
      "outputs": []
    }
  ]
}